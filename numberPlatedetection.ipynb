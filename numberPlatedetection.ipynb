{
 "cells": [
  {
   "cell_type": "code",
   "execution_count": 1,
   "metadata": {
    "scrolled": true
   },
   "outputs": [
    {
     "ename": "ImportError",
     "evalue": "No module named 'pytesseract'",
     "output_type": "error",
     "traceback": [
      "\u001b[1;31m---------------------------------------------------------------------------\u001b[0m",
      "\u001b[1;31mImportError\u001b[0m                               Traceback (most recent call last)",
      "\u001b[1;32m<ipython-input-1-e4e1fe0527ab>\u001b[0m in \u001b[0;36m<module>\u001b[1;34m()\u001b[0m\n\u001b[0;32m      3\u001b[0m \u001b[1;32mimport\u001b[0m \u001b[0mmatplotlib\u001b[0m\u001b[1;33m.\u001b[0m\u001b[0mpyplot\u001b[0m \u001b[1;32mas\u001b[0m \u001b[0mplt\u001b[0m\u001b[1;33m\u001b[0m\u001b[0m\n\u001b[0;32m      4\u001b[0m \u001b[1;32mimport\u001b[0m \u001b[0mnumpy\u001b[0m \u001b[1;32mas\u001b[0m \u001b[0mnp\u001b[0m\u001b[1;33m\u001b[0m\u001b[0m\n\u001b[1;32m----> 5\u001b[1;33m \u001b[1;32mimport\u001b[0m \u001b[0mpytesseract\u001b[0m \u001b[1;32mas\u001b[0m \u001b[0mpyt\u001b[0m\u001b[1;33m\u001b[0m\u001b[0m\n\u001b[0m\u001b[0;32m      6\u001b[0m \u001b[0mget_ipython\u001b[0m\u001b[1;33m(\u001b[0m\u001b[1;33m)\u001b[0m\u001b[1;33m.\u001b[0m\u001b[0mrun_line_magic\u001b[0m\u001b[1;33m(\u001b[0m\u001b[1;34m'matplotlib'\u001b[0m\u001b[1;33m,\u001b[0m \u001b[1;34m'inline'\u001b[0m\u001b[1;33m)\u001b[0m\u001b[1;33m\u001b[0m\u001b[0m\n\u001b[0;32m      7\u001b[0m \u001b[0mbike\u001b[0m\u001b[1;33m=\u001b[0m\u001b[0mcv2\u001b[0m\u001b[1;33m.\u001b[0m\u001b[0mimread\u001b[0m\u001b[1;33m(\u001b[0m\u001b[1;34m'license_plate/patrol_car.jpg'\u001b[0m\u001b[1;33m,\u001b[0m\u001b[0mcv2\u001b[0m\u001b[1;33m.\u001b[0m\u001b[0mIMREAD_COLOR\u001b[0m\u001b[1;33m)\u001b[0m\u001b[1;33m\u001b[0m\u001b[0m\n",
      "\u001b[1;31mImportError\u001b[0m: No module named 'pytesseract'"
     ]
    }
   ],
   "source": [
    "## Object detection\n",
    "import cv2\n",
    "import matplotlib.pyplot as plt\n",
    "import numpy as np\n",
    "import pytesseract as pyt\n",
    "%matplotlib inline\n",
    "bike=cv2.imread('license_plate/patrol_car.jpg',cv2.IMREAD_COLOR)\n",
    "#waldosPic=cv2.imread('sunflowersPic.jpg',0)\n",
    "# gray_shape=cv2.cvtColor(bike,cv2.COLOR_BGR2GRAY)\n",
    "\n",
    "car=cv2.imread('license_plate/cctv.png',cv2.IMREAD_COLOR)\n",
    "\n",
    "fig=plt.figure()\n",
    "\n",
    "\n",
    "# subplot 1\n",
    "a=fig.add_subplot(1,2,1)\n",
    "plt.imshow(bike)\n",
    "a.set_title(\"bike\")\n",
    "\n",
    "#subplot 2\n",
    "\n",
    "a=fig.add_subplot(1,2,2)\n",
    "plt.imshow(car)\n",
    "a.set_title(\"car\")\n",
    "#fig=plt.figure(figsize=(100,100),dpi=80,facecolor='w',edgecolor='k')\n",
    "plt.show()"
   ]
  },
  {
   "cell_type": "code",
   "execution_count": null,
   "metadata": {},
   "outputs": [],
   "source": [
    "vehicle=car\n",
    "vehicle_gray=cv2.cvtColor(vehicle,cv2.COLOR_BGR2GRAY)\n",
    "number_plate_classifier=cv2.CascadeClassifier('https://github.com/opencv/opencv/blob/master/data/haarcascades/haarcascade_licence_plate_rus_16stages.xml')\n",
    "plates=number_plate_classifier.detectMultiScale(vehicle_gray,1.1,3)\n",
    "#  faces=face_classifier.detectMultiScale(gray,1.1,5)\n",
    "if plates == ():\n",
    "    print(\"no plates found\")\n",
    "    plt.imshow(vehicle)\n",
    "else:\n",
    "    for (x,y,w,h) in plates:\n",
    "        cv2.rectangle(vehicle,(x,y),(x+w,y+h),(255,0,0),4)\n",
    "        cropped_plate=vehicle[y:y+h,x:x+w]\n",
    "        cropped_plate=cv2.cvtColor(cropped_plate,cv2.COLOR_BGR2GRAY)\n",
    "        #ret,plate_gray=cv2.threshold(cropped_plate,127,255,cv2.THRESH_BINARY)\n",
    "        values=pyt.image_to_string(cropped_plate)\n",
    "        print(values)\n",
    "    plt.imshow(cropped_plate)\n",
    "    \n",
    "\n",
    "        \n",
    "        \n"
   ]
  },
  {
   "cell_type": "code",
   "execution_count": null,
   "metadata": {},
   "outputs": [],
   "source": []
  },
  {
   "cell_type": "code",
   "execution_count": null,
   "metadata": {
    "collapsed": true
   },
   "outputs": [],
   "source": []
  }
 ],
 "metadata": {
  "kernelspec": {
   "display_name": "Python 3",
   "language": "python",
   "name": "python3"
  }
 },
 "nbformat": 4,
 "nbformat_minor": 2
}
